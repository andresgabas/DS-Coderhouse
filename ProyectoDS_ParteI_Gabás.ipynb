{
  "nbformat": 4,
  "nbformat_minor": 0,
  "metadata": {
    "colab": {
      "provenance": [],
      "mount_file_id": "1K2-E19TG9kQxJlYOOnYOPP1GPSe270oy",
      "authorship_tag": "ABX9TyNQcnmitSU6jLbRiSHx9UHu",
      "include_colab_link": true
    },
    "kernelspec": {
      "name": "python3",
      "display_name": "Python 3"
    },
    "language_info": {
      "name": "python"
    }
  },
  "cells": [
    {
      "cell_type": "markdown",
      "metadata": {
        "id": "view-in-github",
        "colab_type": "text"
      },
      "source": [
        "<a href=\"https://colab.research.google.com/github/andresgabas/DS-Coderhouse/blob/main/ProyectoDS_ParteI_Gab%C3%A1s.ipynb\" target=\"_parent\"><img src=\"https://colab.research.google.com/assets/colab-badge.svg\" alt=\"Open In Colab\"/></a>"
      ]
    },
    {
      "cell_type": "code",
      "source": [
        "!pip install mlxtend --upgrade --no-deps"
      ],
      "metadata": {
        "id": "rMeMH-qdfbdD"
      },
      "execution_count": null,
      "outputs": []
    },
    {
      "cell_type": "code",
      "execution_count": null,
      "metadata": {
        "id": "dtj_5BptTYIF"
      },
      "outputs": [],
      "source": [
        "import pandas as pd\n",
        "import numpy as np\n",
        "import matplotlib as mpl\n",
        "import matplotlib.pyplot as plt\n",
        "import seaborn as sns\n",
        "from mlxtend.plotting import plot_decision_regions\n",
        "import warnings\n",
        "warnings.filterwarnings(\"ignore\")"
      ]
    },
    {
      "cell_type": "markdown",
      "source": [
        "Abstract:\n",
        "\n",
        "En este proyecto se trabajará con un dataset obtenido del sitio web www.kaggle.com.\n",
        "\n",
        "El dataset elegido es un archivo .csv que contiene información de pacientes que sufrieron o no infartos (no se aclara la fuente)\n",
        "El infarto es la segunda causa de muerte más frecuente en el mundo, por lo tanto la posibilidad de crear un modelo que permita la prediccón de un infarto podría prevenir a las personas con riesgo de tomar comsciencia sobre su salud.\n",
        "Se hará un análisis utilizando diferentes librerías de Python, para conocer la base de datos y ver que variables se podrán utilizar para elaborar un modelo que permita predecir si una persona puede llegar a tener un infarto."
      ],
      "metadata": {
        "id": "jAsYu50RVMcT"
      }
    },
    {
      "cell_type": "markdown",
      "source": [
        "Variables incorporadas en el dataset (Entre paréntesis figuran los nombres de las columnas que se utilizarán en el anásisis para mayor comodidad):\n",
        "*   ID (ID): columna con un número que identifica a cada paciente. Se eliminará ya que no se va a utilizar.\n",
        "*   Gender (genero): Género, masculino o femenino. el género otro se eliminó por ser poco representativo.\n",
        "*   Age (edad): Edad de los participantes del estudio. Se considerarán los mayores de 18.\n",
        "*   Hypertension (hipertension): Hipertenso si(1) o no (0).\n",
        "*   Heart Disease (enfermedad_corazon): Enfermedad cardíaca si(1) o no (0).\n",
        "*   Ever married (Casado): Si o no\n",
        "*   work_type (tipo_trabajo): Tipo de trabajo private, self employed, children, govt job or never worked.\n",
        "*   Residence_type(tipo_residencia): Urbana o rural.\n",
        "*   avg_glucose_level(glucosa_promedio): Nivel de glucosa promedio.\n",
        "*   BMI(IMC): indice de masa muscular. En este caso se eliminarán los valores NaN.\n",
        "*   smoking_status(fumador): Nunca fumó, desconocido, ex fumador, fumador.\n",
        "*   stroke(infarto): Tuvo infarto si(1) o no (0).\n",
        "\n",
        "Se buscará comprobar las siguientes hipótesis\n",
        "*   Si trabajar con un dataset desequilibrado, puede afectar a la predictabilidad del modelo y conducir a errores en las predicciones.\n",
        "*   Se buscará comprobar si las personas que tienen enfermedad cardíaca e hipertensión son más propensas a tener infartos.\n",
        "*   Se buscará averiguar si altos valores de IMM y glucosa promedio son factores que conducen a una probabilidad más alta de tener infartos.\n",
        "*   Se buscará ver si según el tipo de trabajo, hay más posibilidades de tener infartos.\n",
        "*   Se buscará comprobar si según se viven en zonas urbanas o rurales, hay más posibilidades de tener infartos.     \n"
      ],
      "metadata": {
        "id": "KhCYpr7BWpFZ"
      }
    },
    {
      "cell_type": "code",
      "source": [
        "url = 'https://raw.githubusercontent.com/andresgabas/DS-Coderhouse/main/healthcare-dataset-stroke-data.csv'\n",
        "Stroke = pd.read_csv(url)\n"
      ],
      "metadata": {
        "id": "iro37-xBYEmC"
      },
      "execution_count": null,
      "outputs": []
    },
    {
      "cell_type": "code",
      "source": [
        "Stroke.drop('id', axis=1)"
      ],
      "metadata": {
        "id": "iNOD6yI15L6w"
      },
      "execution_count": null,
      "outputs": []
    },
    {
      "cell_type": "code",
      "source": [
        "Stroke.columns = ['Id','genero','edad','hipertension','enfermedad_corazon','casado','tipo_trabajo','tipo_residencia','glucosa_promedio','IMC','fumador','infarto']"
      ],
      "metadata": {
        "id": "c3nyhZtyIMvG"
      },
      "execution_count": null,
      "outputs": []
    },
    {
      "cell_type": "markdown",
      "source": [
        "De la columna género, se eliminará la fila correspondiente al género \"other\" porque al ser un único caso , no es representativo."
      ],
      "metadata": {
        "id": "Mlv2tEcGM50k"
      }
    },
    {
      "cell_type": "code",
      "source": [
        "Stroke = Stroke[Stroke['genero'] != 'Other']"
      ],
      "metadata": {
        "id": "2zz-K0B0Mbpy"
      },
      "execution_count": null,
      "outputs": []
    },
    {
      "cell_type": "markdown",
      "source": [
        "En este paso se eliminarán los valores NaN ya que no aportan al dataset y no podrían ser reemplazados por ceros porque el valor 0 en el 'indice de masa muscular no tiene sentido."
      ],
      "metadata": {
        "id": "XBpA_Oyt1bwa"
      }
    },
    {
      "cell_type": "code",
      "source": [
        "Stroke = Stroke.dropna(subset=['IMC'])"
      ],
      "metadata": {
        "id": "u0STyv1rzBek"
      },
      "execution_count": null,
      "outputs": []
    },
    {
      "cell_type": "code",
      "source": [
        "Stroke = Stroke[Stroke['IMC'] <= 50]"
      ],
      "metadata": {
        "id": "c4FEbaL9wChG"
      },
      "execution_count": null,
      "outputs": []
    },
    {
      "cell_type": "code",
      "source": [
        "Stroke = Stroke[Stroke['edad'] >= 18]"
      ],
      "metadata": {
        "id": "P8A6tJtU189P"
      },
      "execution_count": null,
      "outputs": []
    },
    {
      "cell_type": "code",
      "source": [
        "Stroke.count()"
      ],
      "metadata": {
        "id": "v0zjzuLVzMyG"
      },
      "execution_count": null,
      "outputs": []
    },
    {
      "cell_type": "code",
      "source": [
        "stroke_counts = Stroke['infarto'].value_counts()\n",
        "plt.pie(stroke_counts, labels=['Sanos', 'Con infarto'], autopct='%1.1f%%')\n",
        "plt.title('Porcentaje de pacientes con infartos')\n",
        "plt.show()\n"
      ],
      "metadata": {
        "id": "NfvC6vxgjT_X"
      },
      "execution_count": null,
      "outputs": []
    },
    {
      "cell_type": "markdown",
      "source": [
        "Para comenzar se analizó el porcentaje de pacientes que sufrieron un infarto. Se observa en el piechart que solo el 5.2% de los pacientes sufrieron un infarto. Este gráfico nos muestra que el dataset está muy desbalanceado, esto puede generar problemas en la eficacia de nuestro algoritmo.  "
      ],
      "metadata": {
        "id": "luoMtYKGBtWO"
      }
    },
    {
      "cell_type": "code",
      "source": [
        "gender_counts = Stroke['genero'].value_counts()\n",
        "ax = gender_counts.plot(kind='bar', color=['pink','blue'])\n",
        "ax.set_title('Distribución de pacientes por género')\n",
        "ax.set_ylabel('Cantidad')\n",
        "ax.set_xlabel('Género')"
      ],
      "metadata": {
        "id": "R5mfGvl94GHm"
      },
      "execution_count": null,
      "outputs": []
    },
    {
      "cell_type": "markdown",
      "source": [
        "En este gráfico se observa que la cantidad de participantes mujeres es mayor que la hombres."
      ],
      "metadata": {
        "id": "t7T5Ty9URUMc"
      }
    },
    {
      "cell_type": "code",
      "source": [
        "plt.hist(Stroke['edad'], edgecolor='black',rwidth=0.8)\n",
        "plt.xlabel('Edad')\n",
        "plt.ylabel('Frecuencia')\n",
        "plt.title('Distribución de edades')\n",
        "plt.show()"
      ],
      "metadata": {
        "id": "U696-2XSFvkX"
      },
      "execution_count": null,
      "outputs": []
    },
    {
      "cell_type": "markdown",
      "source": [
        "En este histograma de edades de pacientes se observa que la distribución de la edad los pacientes no es normal. Además podemos observar que la mayoría de los pacientes tienen entre 40 y 60 años, más cerca de los sesenta.\n"
      ],
      "metadata": {
        "id": "dlY0N2lOHx8t"
      }
    },
    {
      "cell_type": "code",
      "source": [
        "plt.hist(Stroke['IMC'], bins=20, edgecolor='black')\n",
        "plt.xlabel('IMC')\n",
        "plt.ylabel('Frecuencia')\n",
        "plt.title('Distribución de indice de masa corporal')\n",
        "plt.show()"
      ],
      "metadata": {
        "id": "v3nxgIUmn7iR"
      },
      "execution_count": null,
      "outputs": []
    },
    {
      "cell_type": "markdown",
      "source": [
        "A partir del gráfico de frecuencias del indice de masa corporal observamos una distribución de las muestras corridas hacia la izquierda.\n",
        "Al principio del análsis se mencionó que es dataset está muy desequilibrado, por lo tanto se tomaran los valores de indice masa corporal mayor a 60 como outliers y no tendrán en cuenta en este análisis."
      ],
      "metadata": {
        "id": "ZaMTCEDMrhix"
      }
    },
    {
      "cell_type": "code",
      "source": [
        "sns.countplot(x='fumador', data=Stroke, hue = 'infarto')\n",
        "plt.title('Distribución de pacientes por estado de fumador')\n",
        "plt.show()"
      ],
      "metadata": {
        "id": "cxHe_cmDrBsL"
      },
      "execution_count": null,
      "outputs": []
    },
    {
      "cell_type": "markdown",
      "source": [
        "En este gráfico gracias al atributo hue que permite agregar una variable más a los ya tenidas en cuenta en el gráfico, podemos decir con seguridad que la mayor parte de los pacientes nunca fumó, también hay una gran porporción de pacientes que se desconoce si fumaron o fuman en la actualidad.\n"
      ],
      "metadata": {
        "id": "5G73mgk8PzT3"
      }
    },
    {
      "cell_type": "code",
      "source": [
        "sns.countplot(x='hipertension', data=Stroke, hue = 'infarto')\n",
        "plt.title('Distribución de pacientes por hipertensión')\n",
        "plt.show()"
      ],
      "metadata": {
        "id": "6r0UmmXt0Mk2"
      },
      "execution_count": null,
      "outputs": []
    },
    {
      "cell_type": "code",
      "source": [
        "sns.countplot(x='enfermedad_corazon', data=Stroke, hue = 'infarto')\n",
        "plt.title('Distribución de pacientes por enfermedad del corazon')\n",
        "plt.show()"
      ],
      "metadata": {
        "id": "wnd56oxQ0bsu"
      },
      "execution_count": null,
      "outputs": []
    },
    {
      "cell_type": "code",
      "source": [
        "sns.countplot(x='tipo_residencia', data=Stroke, hue = 'infarto')\n",
        "plt.title('Distribución de pacientes por tipo de residencia')\n",
        "plt.xlabel('Tipo de Residencia')\n",
        "plt.ylabel('Cantidad de Pacientes')\n",
        "plt.show()"
      ],
      "metadata": {
        "id": "NMONlQJCytCt"
      },
      "execution_count": null,
      "outputs": []
    },
    {
      "cell_type": "code",
      "source": [
        "sns.countplot(x='casado', data=Stroke, hue = 'infarto')\n",
        "plt.title('Distribución de pacientes por estado civil')\n",
        "plt.xlabel('Casados')\n",
        "plt.ylabel('Cantidad de Pacientes')\n",
        "plt.show()"
      ],
      "metadata": {
        "id": "cMiOjjqiz3z1"
      },
      "execution_count": null,
      "outputs": []
    },
    {
      "cell_type": "code",
      "source": [
        "sns.countplot(x='tipo_trabajo', data=Stroke, hue = 'infarto')\n",
        "plt.title('Distribución de pacientes segun si trabajan')\n",
        "plt.xlabel('Si trabajan y en que sector')\n",
        "plt.ylabel('Cantidad de Pacientes')\n",
        "plt.show()"
      ],
      "metadata": {
        "id": "wvNKjKq71HJM"
      },
      "execution_count": null,
      "outputs": []
    },
    {
      "cell_type": "code",
      "source": [
        "sns.scatterplot(x = 'edad', y = 'glucosa_promedio', data = Stroke, hue = 'infarto')"
      ],
      "metadata": {
        "id": "CeFk22BqvJcE"
      },
      "execution_count": null,
      "outputs": []
    },
    {
      "cell_type": "markdown",
      "source": [
        "Se realizó este gráfico de dispersión con el objetivo de ver si había una correlación entre la edad y la glucosa promedio, el gráfico no nos aporta ninguna correlación entre estos factores, pero si se observa que la mayoría de los pacientes con infarto, se corresponden con las zonas de alta glucosa promedio y mayor edad."
      ],
      "metadata": {
        "id": "vIU2Z_aTQ7Lm"
      }
    },
    {
      "cell_type": "code",
      "source": [
        "sns.scatterplot(x = 'edad', y = 'IMC', data = Stroke, hue = 'infarto')"
      ],
      "metadata": {
        "id": "Nu4NcPEtwbMy"
      },
      "execution_count": null,
      "outputs": []
    },
    {
      "cell_type": "markdown",
      "source": [
        "En este segundo gráfico de dispersión se trató de ver si existe una correlación entre la edad y el índice de masa muscular pero dada la distribución de los puntos, no se observa una correlación positiva o negativa, sino mas bien una correlación neutra."
      ],
      "metadata": {
        "id": "j93CcPndRiMM"
      }
    },
    {
      "cell_type": "code",
      "source": [
        "sns.scatterplot(x = 'glucosa_promedio', y = 'IMC', data = Stroke, hue = 'infarto')"
      ],
      "metadata": {
        "id": "hqt_wekkwlC4"
      },
      "execution_count": null,
      "outputs": []
    },
    {
      "cell_type": "markdown",
      "source": [
        "En este nuevo Scatterplot se trató de ver si hay una correlación positiva o negativa entre la glucosa promedio y el índice de masa muscular.\n",
        "\n",
        "El gráfico nos permite decir que no hay una correlación positiva o negativa."
      ],
      "metadata": {
        "id": "BWS51Q-s_sU7"
      }
    },
    {
      "cell_type": "markdown",
      "source": [
        "Luego del análisis exploratorio de datos, se procederá a utilizar distintos algoritmos de clasificación de machine learning de la librería Scikit Learn para evaluar las distintas hipótesis propuestas."
      ],
      "metadata": {
        "id": "JH5YAtoCSGhb"
      }
    },
    {
      "cell_type": "code",
      "source": [
        "# prompt: Crear variable x con imm y glucosa promedio\n",
        "\n",
        "X = Stroke[['glucosa_promedio','edad']]\n",
        "y = Stroke['infarto']"
      ],
      "metadata": {
        "id": "j0mkuBAgbP2q"
      },
      "execution_count": null,
      "outputs": []
    },
    {
      "cell_type": "code",
      "source": [
        "#Convert x y to numpy arrays\n",
        "X = np.array(X)\n",
        "y = np.array(y)"
      ],
      "metadata": {
        "id": "vFRc9vhLcn2r"
      },
      "execution_count": null,
      "outputs": []
    },
    {
      "cell_type": "code",
      "source": [
        "# Paso 1\n",
        "# Importar las librerias del modelo\n",
        "from sklearn.linear_model import LogisticRegression\n",
        "\n",
        "# Paso 2\n",
        "# Crear la instancia del modelo\n",
        "clf = LogisticRegression()\n",
        "\n",
        "# Paso 3\n",
        "# Entrenar el modelo con los datos y la etiqueta\n",
        "clf.fit(X, y)"
      ],
      "metadata": {
        "id": "fB9MfFdsaUq_"
      },
      "execution_count": null,
      "outputs": []
    },
    {
      "cell_type": "code",
      "source": [
        "plt.figure(figsize=(12, 12))\n",
        "ax=plot_decision_regions(X, y, clf=clf)\n",
        "ax.legend(['No infarrtado','infarto'])\n",
        "plt.xlabel('Glucosa promedio' )\n",
        "plt.ylabel('Edad')\n",
        "plt.title('Comparación infartados no infartados según edad y glucosa promedio')\n",
        "plt.show()"
      ],
      "metadata": {
        "id": "EFWLDwYqcPOm"
      },
      "execution_count": null,
      "outputs": []
    },
    {
      "cell_type": "code",
      "source": [
        "# Paso 1\n",
        "# Importar las librerias del modelo\n",
        "from sklearn.tree import DecisionTreeClassifier # Import DecisionTreeClassifier\n",
        "from sklearn.preprocessing import LabelEncoder # Import LabelEncoder for encoding categorical features\n",
        "\n",
        "# Paso 2\n",
        "# Crear la instancia del modelo\n",
        "clf = DecisionTreeClassifier(max_depth=4)\n",
        "\n",
        "# Paso 3\n",
        "# Entrenar el modelo con los datos y la etiqueta\n",
        "X= Stroke[['IMC', 'genero']] # Select the 'genero' column directly\n",
        "y= Stroke['infarto']\n",
        "\n",
        "# Encode the 'genero' column to numerical values\n",
        "le = LabelEncoder()\n",
        "X['genero'] = le.fit_transform(X['genero']) # Convert 'genero' to numerical labels\n",
        "\n",
        "clf = clf.fit(X, y) # Now fit the model with numerical data"
      ],
      "metadata": {
        "id": "mvHsf7JFdET-"
      },
      "execution_count": null,
      "outputs": []
    },
    {
      "cell_type": "code",
      "source": [
        "import graphviz\n",
        "from sklearn import tree\n",
        "\n",
        "# Convert class names to strings\n",
        "class_names = [str(name) for name in y.unique()]  # Convert each class name to string\n",
        "\n",
        "dot_data = tree.export_graphviz(clf, out_file=None,\n",
        "                                feature_names=X.columns,\n",
        "                                class_names=class_names,  # Use the converted class names\n",
        "                                filled=True, rounded=True,\n",
        "                                special_characters=True)\n",
        "graph = graphviz.Source(dot_data)\n",
        "graph"
      ],
      "metadata": {
        "id": "gI60CYZ7e2tq"
      },
      "execution_count": null,
      "outputs": []
    },
    {
      "cell_type": "markdown",
      "source": [],
      "metadata": {
        "id": "0pK1OW5xe2S5"
      }
    }
  ]
}